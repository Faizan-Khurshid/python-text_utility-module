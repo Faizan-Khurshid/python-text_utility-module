{
 "cells": [
  {
   "cell_type": "markdown",
   "metadata": {},
   "source": [
    "# text_utility Module \n",
    "<p>text_utility module can be used to perform basic and intermediate operations on strings/text in python. Following are some major functions of text_utitilty module.</p>\n",
    "<ol>\n",
    "    <li><a href=\"#find_best_match\">find_best_match(text, string_to_search)</a></li>\n",
    "    <li><a href=\"#bag_of_words\">bag_of_words(text)</a></li>\n",
    "    <li><a href=\"#remove_refs\">remove_refs(text)</a></li>\n",
    "    <li><a href=\"#find_all_substr\">find_all_substr(text, substring)</a></li>\n",
    "    <li><a href=\"#remove_punct\">remove_punct(text)</a></li>\n",
    "    <li><a href=\"#remove_white_spaces\">remove_white_spaces(text)</a></li>\n",
    "    <li><a href=\"#count_words\">count_words(text)</a></li>\n",
    "    <li><a href=\"#count_sent\">count_sent(text)</a></li>\n",
    "    <li><a href=\"#count_lines\">count_lines(text)</a></li>\n",
    "    <li><a href=\"#count_tabs\">count_tabs(text)</a></li>\n",
    "<ol>"
   ]
  },
  {
   "cell_type": "code",
   "execution_count": 1,
   "metadata": {},
   "outputs": [],
   "source": [
    "import text_utililty"
   ]
  },
  {
   "cell_type": "code",
   "execution_count": 2,
   "metadata": {},
   "outputs": [],
   "source": [
    "text = '''Data science is an inter-disciplinary field that uses scientific methods, processes, algorithms and systems to\n",
    "extract knowledge and insights from many structural and unstructured data.[1][2] Data science is related to data mining,\n",
    "machine learning and big data. Data science is a \"concept to unify statistics, data analysis and their related methods\" \n",
    "in order to \"understand and analyze actual phenomena\" with data.[3] It uses techniques and theories drawn from many \n",
    "fields within the context of mathematics, statistics, computer science, domain knowledge and information science. Turing\n",
    "award winner Jim Gray imagined data science as a \"fourth paradigm\" of science (empirical, theoretical, computational and\n",
    "now data-driven) and asserted that \"everything about science is changing because of the impact of information technology\"\n",
    "and the data deluge.[4][5].\n",
    "\n",
    "Many statisticians, including Nate Silver, have argued that data science is not a new field, but rather another name for\n",
    "statistics.[12] Others argue that data science is distinct from statistics because it focuses on problems and techniques\n",
    "unique to digital data.[13] Vasant Dhar writes that statistics emphasizes quantitative data and description. In contrast\n",
    ", data science deals with quantitative and qualitative data (e.g. images) and emphasizes prediction and action.[14] \n",
    "Andrew Gelman of Columbia University and data scientist Vincent Granville have described statistics as a nonessential \n",
    "part of data science.[15][16] Stanford professor David Donoho writes that data science is not distinguished from \n",
    "statistics by the size of datasets or use of computing, and that many graduate programs misleadingly advertise their \n",
    "analytics and statistics training as the essence of a data science program. He describes data science as an applied \n",
    "field growing out of traditional statistics.[17] In summary, data science can be therefore described as an applied \n",
    "branch of statistics.\n",
    "'''"
   ]
  },
  {
   "cell_type": "markdown",
   "metadata": {},
   "source": [
    "<a id=\"remove_white_spaces\"></a>\n",
    "## Remove White Spaces\n",
    "<p>this function removes all the whitespaces(more than one whitespace) from start, between and end of the given text</p>\n",
    "<p><b>arguments:</b> this function takes one required positional arguments</p>\n",
    "<ul>\n",
    "    <li><b>text(str):</b> The text/paragraph/string</li>\n",
    "</ul>\n",
    "<p><b>Return(str):</b> a text with all white spaces(more than one whitespace) being filtered out</p><br>"
   ]
  },
  {
   "cell_type": "code",
   "execution_count": 9,
   "metadata": {
    "scrolled": true
   },
   "outputs": [
    {
     "name": "stdout",
     "output_type": "stream",
     "text": [
      "Data science is an inter-disciplinary field that uses scientific methods, processes, algorithms and systems to extract knowledge and insights from many structural and unstructured data.[1][2] Data science is related to data mining, machine learning and big data. Data science is a \"concept to unify statistics, data analysis and their related methods\" in order to \"understand and analyze actual phenomena\" with data.[3] It uses techniques and theories drawn from many fields within the context of mathematics, statistics, computer science, domain knowledge and information science. Turing award winner Jim Gray imagined data science as a \"fourth paradigm\" of science (empirical, theoretical, computational and now data-driven) and asserted that \"everything about science is changing because of the impact of information technology\" and the data deluge.[4][5]. Many statisticians, including Nate Silver, have argued that data science is not a new field, but rather another name for statistics.[12] Others argue that data science is distinct from statistics because it focuses on problems and techniques unique to digital data.[13] Vasant Dhar writes that statistics emphasizes quantitative data and description. In contrast , data science deals with quantitative and qualitative data (e.g. images) and emphasizes prediction and action.[14] Andrew Gelman of Columbia University and data scientist Vincent Granville have described statistics as a nonessential part of data science.[15][16] Stanford professor David Donoho writes that data science is not distinguished from statistics by the size of datasets or use of computing, and that many graduate programs misleadingly advertise their analytics and statistics training as the essence of a data science program. He describes data science as an applied field growing out of traditional statistics.[17] In summary, data science can be therefore described as an applied branch of statistics.\n"
     ]
    }
   ],
   "source": [
    "rm_spaces = text_utililty.remove_white_spaces(text=text)\n",
    "print(rm_spaces)"
   ]
  },
  {
   "cell_type": "markdown",
   "metadata": {},
   "source": [
    "<a id=\"remove_refs\"></a>\n",
    "## Remove References\n",
    "<p>this function removes all the references inside the given text</p>\n",
    "<p><b>arguments:</b> this function takes one required positional arguments</p>\n",
    "<ul>\n",
    "    <li><b>text(str):</b> The text/paragraph/string</li>\n",
    "</ul>\n",
    "<p><b>Return(str):</b> a text with all refernces being filtered out</p><br>"
   ]
  },
  {
   "cell_type": "code",
   "execution_count": 10,
   "metadata": {},
   "outputs": [
    {
     "name": "stdout",
     "output_type": "stream",
     "text": [
      "Data science is an inter-disciplinary field that uses scientific methods, processes, algorithms and systems to\n",
      "extract knowledge and insights from many structural and unstructured data. Data science is related to data mining,\n",
      "machine learning and big data. Data science is a \"concept to unify statistics, data analysis and their related methods\" \n",
      "in order to \"understand and analyze actual phenomena\" with data. It uses techniques and theories drawn from many \n",
      "fields within the context of mathematics, statistics, computer science, domain knowledge and information science. Turing\n",
      "award winner Jim Gray imagined data science as a \"fourth paradigm\" of science (empirical, theoretical, computational and\n",
      "now data-driven) and asserted that \"everything about science is changing because of the impact of information technology\"\n",
      "and the data deluge..\n",
      "\n",
      "Many statisticians, including Nate Silver, have argued that data science is not a new field, but rather another name for\n",
      "statistics. Others argue that data science is distinct from statistics because it focuses on problems and techniques\n",
      "unique to digital data. Vasant Dhar writes that statistics emphasizes quantitative data and description. In contrast\n",
      ", data science deals with quantitative and qualitative data (e.g. images) and emphasizes prediction and action. \n",
      "Andrew Gelman of Columbia University and data scientist Vincent Granville have described statistics as a nonessential \n",
      "part of data science. Stanford professor David Donoho writes that data science is not distinguished from \n",
      "statistics by the size of datasets or use of computing, and that many graduate programs misleadingly advertise their \n",
      "analytics and statistics training as the essence of a data science program. He describes data science as an applied \n",
      "field growing out of traditional statistics. In summary, data science can be therefore described as an applied \n",
      "branch of statistics.\n",
      "\n"
     ]
    }
   ],
   "source": [
    "rm_refs = text_utililty.remove_refs(text=text)\n",
    "print(rm_refs)"
   ]
  },
  {
   "cell_type": "markdown",
   "metadata": {},
   "source": [
    "<a id=\"remove_punct\"></a>\n",
    "## Remove Punctuation\n",
    "<p>this function removes all the punctuation inside the given text</p>\n",
    "<p><b>arguments:</b> this function takes one required positional arguments</p>\n",
    "<ul>\n",
    "    <li><b>text(str):</b> The text/paragraph/string</li>\n",
    "</ul>\n",
    "<p><b>Return(str):</b> a text with all punctutation being filtered out</p><br>"
   ]
  },
  {
   "cell_type": "code",
   "execution_count": 11,
   "metadata": {
    "scrolled": true
   },
   "outputs": [
    {
     "name": "stdout",
     "output_type": "stream",
     "text": [
      "Data science is an interdisciplinary field that uses scientific methods processes algorithms and systems to\n",
      "extract knowledge and insights from many structural and unstructured data12 Data science is related to data mining\n",
      "machine learning and big data Data science is a concept to unify statistics data analysis and their related methods \n",
      "in order to understand and analyze actual phenomena with data3 It uses techniques and theories drawn from many \n",
      "fields within the context of mathematics statistics computer science domain knowledge and information science Turing\n",
      "award winner Jim Gray imagined data science as a fourth paradigm of science empirical theoretical computational and\n",
      "now datadriven and asserted that everything about science is changing because of the impact of information technology\n",
      "and the data deluge45\n",
      "\n",
      "Many statisticians including Nate Silver have argued that data science is not a new field but rather another name for\n",
      "statistics12 Others argue that data science is distinct from statistics because it focuses on problems and techniques\n",
      "unique to digital data13 Vasant Dhar writes that statistics emphasizes quantitative data and description In contrast\n",
      " data science deals with quantitative and qualitative data eg images and emphasizes prediction and action14 \n",
      "Andrew Gelman of Columbia University and data scientist Vincent Granville have described statistics as a nonessential \n",
      "part of data science1516 Stanford professor David Donoho writes that data science is not distinguished from \n",
      "statistics by the size of datasets or use of computing and that many graduate programs misleadingly advertise their \n",
      "analytics and statistics training as the essence of a data science program He describes data science as an applied \n",
      "field growing out of traditional statistics17 In summary data science can be therefore described as an applied \n",
      "branch of statistics\n",
      "\n"
     ]
    }
   ],
   "source": [
    "rm_punct = text_utililty.remove_punct(text=text)\n",
    "print(rm_punct)"
   ]
  },
  {
   "cell_type": "markdown",
   "metadata": {},
   "source": [
    "<a id=\"bag_of_words\"></a>\n",
    "## Bag Of Words\n",
    "<p>this function creates a dictionary of all the words in the given text with the count of no of times they occur in text</p>\n",
    "<p><b>arguments:</b> this function takes one required positional arguments</p>\n",
    "<ul>\n",
    "    <li><b>text(str):</b> The text/paragraph/string </li>\n",
    "</ul>\n",
    "<p><b>Return(str):</b> a dictionary containg all the words as key and the no of times they appear as key</p><br>"
   ]
  },
  {
   "cell_type": "code",
   "execution_count": 12,
   "metadata": {
    "scrolled": true
   },
   "outputs": [
    {
     "data": {
      "text/plain": [
       "{'and': 19,\n",
       " 'data': 19,\n",
       " 'science': 16,\n",
       " 'of': 11,\n",
       " 'statistics': 10,\n",
       " 'is': 7,\n",
       " 'that': 7,\n",
       " 'to': 5,\n",
       " 'a': 5,\n",
       " 'the': 5,\n",
       " 'as': 5,\n",
       " 'from': 4,\n",
       " 'Data': 3,\n",
       " 'an': 3,\n",
       " 'field': 3,\n",
       " 'many': 3,\n",
       " 'uses': 2,\n",
       " 'methods': 2,\n",
       " 'knowledge': 2,\n",
       " 'related': 2,\n",
       " 'their': 2,\n",
       " 'with': 2,\n",
       " 'techniques': 2,\n",
       " 'information': 2,\n",
       " 'because': 2,\n",
       " 'have': 2,\n",
       " 'not': 2,\n",
       " 'writes': 2,\n",
       " 'emphasizes': 2,\n",
       " 'quantitative': 2,\n",
       " 'In': 2,\n",
       " 'described': 2,\n",
       " 'applied': 2,\n",
       " 'interdisciplinary': 1,\n",
       " 'scientific': 1,\n",
       " 'processes': 1,\n",
       " 'algorithms': 1,\n",
       " 'systems': 1,\n",
       " 'extract': 1,\n",
       " 'insights': 1,\n",
       " 'structural': 1,\n",
       " 'unstructured': 1,\n",
       " 'mining': 1,\n",
       " 'machine': 1,\n",
       " 'learning': 1,\n",
       " 'big': 1,\n",
       " 'concept': 1,\n",
       " 'unify': 1,\n",
       " 'analysis': 1,\n",
       " 'in': 1,\n",
       " 'order': 1,\n",
       " 'understand': 1,\n",
       " 'analyze': 1,\n",
       " 'actual': 1,\n",
       " 'phenomena': 1,\n",
       " 'It': 1,\n",
       " 'theories': 1,\n",
       " 'drawn': 1,\n",
       " 'fields': 1,\n",
       " 'within': 1,\n",
       " 'context': 1,\n",
       " 'mathematics': 1,\n",
       " 'computer': 1,\n",
       " 'domain': 1,\n",
       " 'Turing': 1,\n",
       " 'award': 1,\n",
       " 'winner': 1,\n",
       " 'Jim': 1,\n",
       " 'Gray': 1,\n",
       " 'imagined': 1,\n",
       " 'fourth': 1,\n",
       " 'paradigm': 1,\n",
       " 'empirical': 1,\n",
       " 'theoretical': 1,\n",
       " 'computational': 1,\n",
       " 'now': 1,\n",
       " 'datadriven': 1,\n",
       " 'asserted': 1,\n",
       " 'everything': 1,\n",
       " 'about': 1,\n",
       " 'changing': 1,\n",
       " 'impact': 1,\n",
       " 'technology': 1,\n",
       " 'deluge': 1,\n",
       " 'Many': 1,\n",
       " 'statisticians': 1,\n",
       " 'including': 1,\n",
       " 'Nate': 1,\n",
       " 'Silver': 1,\n",
       " 'argued': 1,\n",
       " 'new': 1,\n",
       " 'but': 1,\n",
       " 'rather': 1,\n",
       " 'another': 1,\n",
       " 'name': 1,\n",
       " 'for': 1,\n",
       " 'Others': 1,\n",
       " 'argue': 1,\n",
       " 'distinct': 1,\n",
       " 'it': 1,\n",
       " 'focuses': 1,\n",
       " 'on': 1,\n",
       " 'problems': 1,\n",
       " 'unique': 1,\n",
       " 'digital': 1,\n",
       " 'Vasant': 1,\n",
       " 'Dhar': 1,\n",
       " 'description': 1,\n",
       " 'contrast': 1,\n",
       " 'deals': 1,\n",
       " 'qualitative': 1,\n",
       " 'eg': 1,\n",
       " 'images': 1,\n",
       " 'prediction': 1,\n",
       " 'action': 1,\n",
       " 'Andrew': 1,\n",
       " 'Gelman': 1,\n",
       " 'Columbia': 1,\n",
       " 'University': 1,\n",
       " 'scientist': 1,\n",
       " 'Vincent': 1,\n",
       " 'Granville': 1,\n",
       " 'nonessential': 1,\n",
       " 'part': 1,\n",
       " 'Stanford': 1,\n",
       " 'professor': 1,\n",
       " 'David': 1,\n",
       " 'Donoho': 1,\n",
       " 'distinguished': 1,\n",
       " 'by': 1,\n",
       " 'size': 1,\n",
       " 'datasets': 1,\n",
       " 'or': 1,\n",
       " 'use': 1,\n",
       " 'computing': 1,\n",
       " 'graduate': 1,\n",
       " 'programs': 1,\n",
       " 'misleadingly': 1,\n",
       " 'advertise': 1,\n",
       " 'analytics': 1,\n",
       " 'training': 1,\n",
       " 'essence': 1,\n",
       " 'program': 1,\n",
       " 'He': 1,\n",
       " 'describes': 1,\n",
       " 'growing': 1,\n",
       " 'out': 1,\n",
       " 'traditional': 1,\n",
       " 'summary': 1,\n",
       " 'can': 1,\n",
       " 'be': 1,\n",
       " 'therefore': 1,\n",
       " 'branch': 1}"
      ]
     },
     "execution_count": 12,
     "metadata": {},
     "output_type": "execute_result"
    }
   ],
   "source": [
    "word_dict = text_utililty.bag_of_words(text=text)\n",
    "word_dict"
   ]
  },
  {
   "cell_type": "markdown",
   "metadata": {},
   "source": [
    "<a id=\"find_all_substr\"></a>\n",
    "## Find All Substring\n",
    "<p>this function finds the position of the all the occurences of the given substring</p>\n",
    "<p><b>arguments:</b> this function takes two required positional arguments</p>\n",
    "<ul>\n",
    "    <li><b>text(str):</b> The text/paragraph/string to be searched upon</li>\n",
    "    <li><b>substring(str):</b> The substring to be found</li>\n",
    "</ul>\n",
    "<p><b>Return(str):</b> a list containing all the positions of occurences of the givent substring</p><br>"
   ]
  },
  {
   "cell_type": "code",
   "execution_count": 13,
   "metadata": {
    "scrolled": false
   },
   "outputs": [
    {
     "name": "stdout",
     "output_type": "stream",
     "text": [
      "[0, 192, 263, 622, 923, 1018, 1228, 1470, 1536, 1748, 1783, 1872]\n"
     ]
    }
   ],
   "source": [
    "all_ind = text_utililty.find_all_substr(text=text, substring=\"Data Science\")\n",
    "print(all_ind)"
   ]
  },
  {
   "cell_type": "markdown",
   "metadata": {},
   "source": [
    "<a id=\"find_best_match\"></a>\n",
    "## Find Best Match\n",
    "<p>this function finds the best match of the searched string/phrase. It can be used for providing suggestions while searching or it can be used as search algoritm for a given text</p>\n",
    "<p><b>arguments:</b> this function takes two required positional arguments</p>\n",
    "<ul>\n",
    "    <li><b>text(str):</b> The text/paragraph/string to be searched upon</li>\n",
    "    <li><b>string_to_search(str):</b> The string to be searched</li>\n",
    "</ul>\n",
    "<p><b>Returns(dict):</b> a dictionary containg all the words, their positions, how much they match with the searched string and count of how many matching words/phrases are there</p><br>"
   ]
  },
  {
   "cell_type": "code",
   "execution_count": 14,
   "metadata": {},
   "outputs": [
    {
     "data": {
      "text/plain": [
       "{'matched_words': ['...Data science is an inter-disciplinary field that us...',\n",
       "  '...Data science is related to data mining,\\nmachine lea...',\n",
       "  '...Data science is a \"concept to unify statistics, dat...',\n",
       "  '...data science is not a new field, but rather another...',\n",
       "  '...data science is distinct from statistics because it...',\n",
       "  '...data science is not distinguished from \\nstatistics ...'],\n",
       " 'pos': [0, 192, 263, 923, 1018, 1536],\n",
       " '%_match': '94.11764705882352%',\n",
       " 'count': 6}"
      ]
     },
     "execution_count": 14,
     "metadata": {},
     "output_type": "execute_result"
    }
   ],
   "source": [
    "matched = text_utililty.find_best_match(text, string_to_search=\"data science is f\")\n",
    "matched"
   ]
  },
  {
   "cell_type": "markdown",
   "metadata": {},
   "source": [
    "<a id=\"count_sent\"></a>\n",
    "## Count Sentences\n",
    "<p>this function counts the number of sentences in the given text</p>\n",
    "<p><b>arguments:</b> this function takes one required positional arguments</p>\n",
    "<ul>\n",
    "    <li><b>text(str):</b> The text/paragraph/string</li>\n",
    "</ul>\n",
    "<p><b>Return(int):</b> Number of sentences</p>"
   ]
  },
  {
   "cell_type": "code",
   "execution_count": 15,
   "metadata": {},
   "outputs": [
    {
     "name": "stdout",
     "output_type": "stream",
     "text": [
      "17\n"
     ]
    }
   ],
   "source": [
    "n_sent = text_utililty.count_sents(text=text)\n",
    "print(n_sent)"
   ]
  },
  {
   "cell_type": "markdown",
   "metadata": {},
   "source": [
    "<a id=\"count_words\"></a>\n",
    "## Count Words\n",
    "<p>this function counts the number of words in the given text</p>\n",
    "<p><b>arguments:</b> this function takes one required positional arguments</p>\n",
    "<ul>\n",
    "    <li><b>text(str):</b> The text/paragraph/string</li>\n",
    "</ul>\n",
    "<p><b>Return(int):</b> Number of words</p>"
   ]
  },
  {
   "cell_type": "code",
   "execution_count": 16,
   "metadata": {},
   "outputs": [
    {
     "name": "stdout",
     "output_type": "stream",
     "text": [
      "280\n"
     ]
    }
   ],
   "source": [
    "n_word = text_utililty.count_words(text=text)\n",
    "print(n_word)"
   ]
  },
  {
   "cell_type": "markdown",
   "metadata": {},
   "source": [
    "<a id=\"count_lines\"></a>\n",
    "## Count Lines\n",
    "<p>this function counts the number of lines in the given text</p>\n",
    "<p><b>arguments:</b> this function takes one required positional arguments</p>\n",
    "<ul>\n",
    "    <li><b>text(str):</b> The text/paragraph/string</li>\n",
    "</ul>\n",
    "<p><b>Return(int):</b> Number of lines</p>"
   ]
  },
  {
   "cell_type": "code",
   "execution_count": 17,
   "metadata": {},
   "outputs": [
    {
     "name": "stdout",
     "output_type": "stream",
     "text": [
      "20\n"
     ]
    }
   ],
   "source": [
    "n_line = text_utililty.count_lines(text=text)\n",
    "print(n_line)"
   ]
  },
  {
   "cell_type": "markdown",
   "metadata": {},
   "source": [
    "<a id=\"count_tabs\"></a>\n",
    "## Count Tabs\n",
    "<p>this function counts the number of tabs in the given text</p>\n",
    "<p><b>arguments:</b> this function takes one required positional arguments</p>\n",
    "<ul>\n",
    "    <li><b>text(str):</b> The text/paragraph/string</li>\n",
    "</ul>\n",
    "<p><b>Return(int):</b> Number of tabs</p>"
   ]
  },
  {
   "cell_type": "code",
   "execution_count": 18,
   "metadata": {},
   "outputs": [
    {
     "name": "stdout",
     "output_type": "stream",
     "text": [
      "0\n"
     ]
    }
   ],
   "source": [
    "n_tab = text_utililty.count_tabs(text=text)\n",
    "print(n_tab)"
   ]
  }
 ],
 "metadata": {
  "kernelspec": {
   "display_name": "Python 3",
   "language": "python",
   "name": "python3"
  },
  "language_info": {
   "codemirror_mode": {
    "name": "ipython",
    "version": 3
   },
   "file_extension": ".py",
   "mimetype": "text/x-python",
   "name": "python",
   "nbconvert_exporter": "python",
   "pygments_lexer": "ipython3",
   "version": "3.7.1"
  }
 },
 "nbformat": 4,
 "nbformat_minor": 2
}
